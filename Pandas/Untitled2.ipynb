{
 "cells": [
  {
   "cell_type": "code",
   "execution_count": 2,
   "metadata": {},
   "outputs": [],
   "source": [
    "import pandas as pd"
   ]
  },
  {
   "cell_type": "code",
   "execution_count": 3,
   "metadata": {},
   "outputs": [
    {
     "output_type": "execute_result",
     "data": {
      "text/plain": "          Name Gender  Count\n0        Emily      F  25956\n1       Hannah      F  23082\n2      Madison      F  19968\n3       Ashley      F  17997\n4        Sarah      F  17702\n...        ...    ...    ...\n29767     Zeph      M      5\n29768    Zeven      M      5\n29769    Ziggy      M      5\n29770       Zo      M      5\n29771    Zyier      M      5\n\n[29772 rows x 3 columns]",
      "text/html": "<div>\n<style scoped>\n    .dataframe tbody tr th:only-of-type {\n        vertical-align: middle;\n    }\n\n    .dataframe tbody tr th {\n        vertical-align: top;\n    }\n\n    .dataframe thead th {\n        text-align: right;\n    }\n</style>\n<table border=\"1\" class=\"dataframe\">\n  <thead>\n    <tr style=\"text-align: right;\">\n      <th></th>\n      <th>Name</th>\n      <th>Gender</th>\n      <th>Count</th>\n    </tr>\n  </thead>\n  <tbody>\n    <tr>\n      <th>0</th>\n      <td>Emily</td>\n      <td>F</td>\n      <td>25956</td>\n    </tr>\n    <tr>\n      <th>1</th>\n      <td>Hannah</td>\n      <td>F</td>\n      <td>23082</td>\n    </tr>\n    <tr>\n      <th>2</th>\n      <td>Madison</td>\n      <td>F</td>\n      <td>19968</td>\n    </tr>\n    <tr>\n      <th>3</th>\n      <td>Ashley</td>\n      <td>F</td>\n      <td>17997</td>\n    </tr>\n    <tr>\n      <th>4</th>\n      <td>Sarah</td>\n      <td>F</td>\n      <td>17702</td>\n    </tr>\n    <tr>\n      <th>...</th>\n      <td>...</td>\n      <td>...</td>\n      <td>...</td>\n    </tr>\n    <tr>\n      <th>29767</th>\n      <td>Zeph</td>\n      <td>M</td>\n      <td>5</td>\n    </tr>\n    <tr>\n      <th>29768</th>\n      <td>Zeven</td>\n      <td>M</td>\n      <td>5</td>\n    </tr>\n    <tr>\n      <th>29769</th>\n      <td>Ziggy</td>\n      <td>M</td>\n      <td>5</td>\n    </tr>\n    <tr>\n      <th>29770</th>\n      <td>Zo</td>\n      <td>M</td>\n      <td>5</td>\n    </tr>\n    <tr>\n      <th>29771</th>\n      <td>Zyier</td>\n      <td>M</td>\n      <td>5</td>\n    </tr>\n  </tbody>\n</table>\n<p>29772 rows × 3 columns</p>\n</div>"
     },
     "metadata": {},
     "execution_count": 3
    }
   ],
   "source": [
    "df = pd.read_csv(\"names/yob2000.txt\", names=[\"Name\",\"Gender\",\"Count\"])\n",
    "df"
   ]
  },
  {
   "cell_type": "code",
   "execution_count": 13,
   "metadata": {},
   "outputs": [
    {
     "data": {
      "text/html": [
       "<div>\n",
       "<style scoped>\n",
       "    .dataframe tbody tr th:only-of-type {\n",
       "        vertical-align: middle;\n",
       "    }\n",
       "\n",
       "    .dataframe tbody tr th {\n",
       "        vertical-align: top;\n",
       "    }\n",
       "\n",
       "    .dataframe thead th {\n",
       "        text-align: right;\n",
       "    }\n",
       "</style>\n",
       "<table border=\"1\" class=\"dataframe\">\n",
       "  <thead>\n",
       "    <tr style=\"text-align: right;\">\n",
       "      <th></th>\n",
       "      <th>Name</th>\n",
       "      <th>Gender</th>\n",
       "      <th>Count</th>\n",
       "      <th>Year</th>\n",
       "    </tr>\n",
       "  </thead>\n",
       "  <tbody>\n",
       "    <tr>\n",
       "      <th>17716</th>\n",
       "      <td>Alex</td>\n",
       "      <td>M</td>\n",
       "      <td>6747</td>\n",
       "      <td>2000</td>\n",
       "    </tr>\n",
       "  </tbody>\n",
       "</table>\n",
       "</div>"
      ],
      "text/plain": [
       "       Name Gender  Count  Year\n",
       "17716  Alex      M   6747  2000"
      ]
     },
     "execution_count": 13,
     "metadata": {},
     "output_type": "execute_result"
    }
   ],
   "source": [
    "df[(df[\"Name\"]== \"Alex\")&(df[\"Gender\"]==\"M\")]"
   ]
  },
  {
   "cell_type": "code",
   "execution_count": 92,
   "metadata": {},
   "outputs": [],
   "source": [
    "def count_top3(years):\n",
    "    \n",
    "    list_names_for_years =list()\n",
    "    for year in years:\n",
    "        df = pd.read_csv('names/yob{}.txt'.format(year), names=[\"Name\",\"Gender\",\"Count\"])\n",
    "        df[\"Year\"] = year\n",
    "\n",
    "        list_names_for_years.append( df[(df[\"Gender\"] == \"M\")&(df[\"Year\"] == year)].head(1))\n",
    "    df_res = pd.concat(list_names_for_years)\n",
    "    df_res.reset_index(inplace=True)\n",
    "\n",
    "    return df_res"
   ]
  },
  {
   "cell_type": "code",
   "execution_count": 93,
   "metadata": {},
   "outputs": [
    {
     "data": {
      "text/html": [
       "<div>\n",
       "<style scoped>\n",
       "    .dataframe tbody tr th:only-of-type {\n",
       "        vertical-align: middle;\n",
       "    }\n",
       "\n",
       "    .dataframe tbody tr th {\n",
       "        vertical-align: top;\n",
       "    }\n",
       "\n",
       "    .dataframe thead th {\n",
       "        text-align: right;\n",
       "    }\n",
       "</style>\n",
       "<table border=\"1\" class=\"dataframe\">\n",
       "  <thead>\n",
       "    <tr style=\"text-align: right;\">\n",
       "      <th></th>\n",
       "      <th>index</th>\n",
       "      <th>Name</th>\n",
       "      <th>Gender</th>\n",
       "      <th>Count</th>\n",
       "      <th>Year</th>\n",
       "    </tr>\n",
       "  </thead>\n",
       "  <tbody>\n",
       "    <tr>\n",
       "      <th>0</th>\n",
       "      <td>2224</td>\n",
       "      <td>John</td>\n",
       "      <td>M</td>\n",
       "      <td>9829</td>\n",
       "      <td>1900</td>\n",
       "    </tr>\n",
       "    <tr>\n",
       "      <th>1</th>\n",
       "      <td>6111</td>\n",
       "      <td>James</td>\n",
       "      <td>M</td>\n",
       "      <td>86224</td>\n",
       "      <td>1950</td>\n",
       "    </tr>\n",
       "    <tr>\n",
       "      <th>2</th>\n",
       "      <td>17655</td>\n",
       "      <td>Jacob</td>\n",
       "      <td>M</td>\n",
       "      <td>34477</td>\n",
       "      <td>2000</td>\n",
       "    </tr>\n",
       "  </tbody>\n",
       "</table>\n",
       "</div>"
      ],
      "text/plain": [
       "   index   Name Gender  Count  Year\n",
       "0   2224   John      M   9829  1900\n",
       "1   6111  James      M  86224  1950\n",
       "2  17655  Jacob      M  34477  2000"
      ]
     },
     "execution_count": 93,
     "metadata": {},
     "output_type": "execute_result"
    }
   ],
   "source": [
    "count_top3([1900, 1950, 2000])"
   ]
  },
  {
   "cell_type": "code",
   "execution_count": null,
   "metadata": {},
   "outputs": [],
   "source": []
  }
 ],
 "metadata": {
  "kernelspec": {
   "display_name": "Python 3.8.2 64-bit",
   "language": "python",
   "name": "python_defaultSpec_1595445271879"
  },
  "language_info": {
   "codemirror_mode": {
    "name": "ipython",
    "version": 3
   },
   "file_extension": ".py",
   "mimetype": "text/x-python",
   "name": "python",
   "nbconvert_exporter": "python",
   "pygments_lexer": "ipython3",
   "version": "3.7.6"
  }
 },
 "nbformat": 4,
 "nbformat_minor": 4
}
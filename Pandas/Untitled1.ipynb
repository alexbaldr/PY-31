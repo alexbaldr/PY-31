{
 "cells": [
  {
   "cell_type": "code",
   "execution_count": 3,
   "metadata": {},
   "outputs": [],
   "source": [
    "import pandas as pd"
   ]
  },
  {
   "cell_type": "code",
   "execution_count": 5,
   "metadata": {},
   "outputs": [
    {
     "output_type": "execute_result",
     "data": {
      "text/plain": "           Name Gender  Count\n0       Jessica      F  46475\n1        Ashley      F  45560\n2      Brittany      F  36537\n3        Amanda      F  34408\n4      Samantha      F  25867\n...         ...    ...    ...\n24711      Zeus      M      5\n24712     Ziyad      M      5\n24713     Zoilo      M      5\n24714     Zoran      M      5\n24715       Zvi      M      5\n\n[24716 rows x 3 columns]",
      "text/html": "<div>\n<style scoped>\n    .dataframe tbody tr th:only-of-type {\n        vertical-align: middle;\n    }\n\n    .dataframe tbody tr th {\n        vertical-align: top;\n    }\n\n    .dataframe thead th {\n        text-align: right;\n    }\n</style>\n<table border=\"1\" class=\"dataframe\">\n  <thead>\n    <tr style=\"text-align: right;\">\n      <th></th>\n      <th>Name</th>\n      <th>Gender</th>\n      <th>Count</th>\n    </tr>\n  </thead>\n  <tbody>\n    <tr>\n      <th>0</th>\n      <td>Jessica</td>\n      <td>F</td>\n      <td>46475</td>\n    </tr>\n    <tr>\n      <th>1</th>\n      <td>Ashley</td>\n      <td>F</td>\n      <td>45560</td>\n    </tr>\n    <tr>\n      <th>2</th>\n      <td>Brittany</td>\n      <td>F</td>\n      <td>36537</td>\n    </tr>\n    <tr>\n      <th>3</th>\n      <td>Amanda</td>\n      <td>F</td>\n      <td>34408</td>\n    </tr>\n    <tr>\n      <th>4</th>\n      <td>Samantha</td>\n      <td>F</td>\n      <td>25867</td>\n    </tr>\n    <tr>\n      <th>...</th>\n      <td>...</td>\n      <td>...</td>\n      <td>...</td>\n    </tr>\n    <tr>\n      <th>24711</th>\n      <td>Zeus</td>\n      <td>M</td>\n      <td>5</td>\n    </tr>\n    <tr>\n      <th>24712</th>\n      <td>Ziyad</td>\n      <td>M</td>\n      <td>5</td>\n    </tr>\n    <tr>\n      <th>24713</th>\n      <td>Zoilo</td>\n      <td>M</td>\n      <td>5</td>\n    </tr>\n    <tr>\n      <th>24714</th>\n      <td>Zoran</td>\n      <td>M</td>\n      <td>5</td>\n    </tr>\n    <tr>\n      <th>24715</th>\n      <td>Zvi</td>\n      <td>M</td>\n      <td>5</td>\n    </tr>\n  </tbody>\n</table>\n<p>24716 rows × 3 columns</p>\n</div>"
     },
     "metadata": {},
     "execution_count": 5
    }
   ],
   "source": [
    "df = pd.read_csv(\"names/yob1990.txt\", names=[\"Name\",\"Gender\",\"Count\"])\n",
    "df"
   ]
  },
  {
   "cell_type": "code",
   "execution_count": 110,
   "metadata": {},
   "outputs": [],
   "source": [
    "def count_dynamics(years):\n",
    "    fem_total_count = list()\n",
    "    men_total_count =list()\n",
    "    for year in years:\n",
    "        df = pd.read_csv('yob{}.txt'.format(year), names=[\"Name\",\"Gender\",\"Count\"])\n",
    "        df[\"Year\"] = year\n",
    "        fem = df[(df[\"Year\"]==year) & (df[\"Gender\"]==\"F\")].sum()[\"Count\"] \n",
    "        fem_total_count.append(fem)\n",
    "        men = df[(df[\"Year\"]==year) & (df[\"Gender\"]==\"M\")].sum() [\"Count\"]\n",
    "        men_total_count.append(men)\n",
    "    dict_of_count = {'F': fem_total_count, 'M': men_total_count}\n",
    "    print(dict_of_count)"
   ]
  },
  {
   "cell_type": "code",
   "execution_count": 111,
   "metadata": {},
   "outputs": [
    {
     "name": "stdout",
     "output_type": "stream",
     "text": [
      "{'F': [90994, 1713065, 1686961], 'M': [110490, 1790437, 1800392]}\n"
     ]
    }
   ],
   "source": [
    "count_dynamics([1880, 1950, 2018])"
   ]
  }
 ],
 "metadata": {
  "kernelspec": {
   "display_name": "Python 3.8.2 64-bit",
   "language": "python",
   "name": "python_defaultSpec_1595445081109"
  },
  "language_info": {
   "codemirror_mode": {
    "name": "ipython",
    "version": 3
   },
   "file_extension": ".py",
   "mimetype": "text/x-python",
   "name": "python",
   "nbconvert_exporter": "python",
   "pygments_lexer": "ipython3",
   "version": "3.7.6"
  }
 },
 "nbformat": 4,
 "nbformat_minor": 4
}